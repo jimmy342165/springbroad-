{
 "cells": [
  {
   "cell_type": "markdown",
   "id": "c29fd989",
   "metadata": {},
   "source": [
    "Converting wav files(or library) to normalized Spectrogram"
   ]
  },
  {
   "cell_type": "code",
   "execution_count": 9,
   "id": "a69d679c",
   "metadata": {},
   "outputs": [],
   "source": [
    "import os\n",
    "import librosa\n",
    "import librosa.display\n",
    "import matplotlib.pyplot as plt\n",
    "import numpy as np\n",
    "from sklearn.preprocessing import MinMaxScaler\n"
   ]
  },
  {
   "cell_type": "code",
   "execution_count": 10,
   "id": "c8a20bc2",
   "metadata": {},
   "outputs": [],
   "source": [
    "def wav_to_spectrogram(audio_file_path, output_folder):\n",
    "    # Load the audio file\n",
    "    y, sr = librosa.load(audio_file_path)\n",
    "\n",
    "    # Compute the spectrogram using Short-Time Fourier Transform (STFT)\n",
    "    D = librosa.stft(y)\n",
    "\n",
    "    # Convert amplitude to decibels\n",
    "    spectrogram = librosa.amplitude_to_db(abs(D), ref=np.max)\n",
    "    \n",
    "    # Normalize the spectrogram using Min-Max scaling\n",
    "    scaler = MinMaxScaler()\n",
    "    normalized_spectrogram = scaler.fit_transform(spectrogram)\n",
    "\n",
    "\n",
    "    # Plot and save the spectrogram\n",
    "\n",
    "    plt.figure(figsize=(10, 6))\n",
    "    librosa.display.specshow(normalized_spectrogram, y_axis='log', x_axis='time')\n",
    "    plt.colorbar(format='%+2.0f dB')\n",
    "    plt.title('Normalized Spectrogram')\n",
    "    plt.xlabel('Time (s)')\n",
    "    plt.ylabel('Frequency (Hz)')\n",
    "    plt.tight_layout()\n",
    "    \n",
    "    # Get the filename without extension\n",
    "    filename = os.path.splitext(os.path.basename(audio_file_path))[0]\n",
    "\n",
    "    # Save the spectrogram as an image\n",
    "    output_path = os.path.join(output_folder, f'{filename}_spectrogram.png')\n",
    "    plt.savefig(output_path)\n",
    "    plt.close()\n",
    "\n",
    "# Path to the folder containing WAV files\n",
    "input_folder = 'Data/genres_original/rock'  # Replace with the actual folder path\n",
    "\n",
    "# Path to the folder where you want to save the spectrograms\n",
    "output_folder = 'Data/genres_original/rock_norm'  # Replace with the actual folder path\n",
    "\n",
    "# Loop through each WAV file in the input folder and convert to spectrogram\n",
    "for filename in os.listdir(input_folder):\n",
    "    if filename.endswith('.wav'):\n",
    "        audio_file_path = os.path.join(input_folder, filename)\n",
    "        wav_to_spectrogram(audio_file_path, output_folder)\n",
    "\n",
    "\n",
    "\n",
    "\n",
    "\n",
    "\n",
    "\n"
   ]
  },
  {
   "cell_type": "code",
   "execution_count": null,
   "id": "3755f75b",
   "metadata": {},
   "outputs": [],
   "source": []
  }
 ],
 "metadata": {
  "kernelspec": {
   "display_name": "Python 3 (ipykernel)",
   "language": "python",
   "name": "python3"
  },
  "language_info": {
   "codemirror_mode": {
    "name": "ipython",
    "version": 3
   },
   "file_extension": ".py",
   "mimetype": "text/x-python",
   "name": "python",
   "nbconvert_exporter": "python",
   "pygments_lexer": "ipython3",
   "version": "3.9.13"
  }
 },
 "nbformat": 4,
 "nbformat_minor": 5
}
