{
 "cells": [
  {
   "cell_type": "code",
   "execution_count": 1,
   "id": "3b7105ae",
   "metadata": {},
   "outputs": [],
   "source": [
    "import os\n",
    "import numpy as np\n",
    "from PIL import Image"
   ]
  },
  {
   "cell_type": "markdown",
   "id": "63206e15",
   "metadata": {},
   "source": [
    "Creating input output pairs "
   ]
  },
  {
   "cell_type": "code",
   "execution_count": 11,
   "id": "87248d2c",
   "metadata": {},
   "outputs": [],
   "source": [
    "# Function to create input-output pairs from a single spectrogram image\n",
    "def create_input_output_pairs_from_image(spectrogram_image_path, patch_size):\n",
    "    # Load the spectrogram image\n",
    "    spectrogram_image = Image.open(spectrogram_image_path)\n",
    "    spectrogram = np.array(spectrogram_image)\n",
    "\n",
    "    # Get the number of time steps and frequency bins in the spectrogram\n",
    "    num_time_steps, num_freq_bins = spectrogram.shape[:2]\n",
    "\n",
    "    # Initialize lists to store input and output pairs\n",
    "    input_pairs = []\n",
    "    output_pairs = []\n",
    "\n",
    "    # Slide a window of size 'patch_size' across the spectrogram to create pairs\n",
    "    for i in range(0, num_time_steps - patch_size * 2 + 1):\n",
    "        input_patch = spectrogram[i:i+patch_size, :]\n",
    "        output_patch = spectrogram[i+patch_size:i+2*patch_size, :]\n",
    "        input_pairs.append(input_patch)\n",
    "        output_pairs.append(output_patch)\n",
    "\n",
    "    # Convert lists to numpy arrays\n",
    "    input_pairs = np.array(input_pairs)\n",
    "    output_pairs = np.array(output_pairs)\n",
    "\n",
    "    return np.concatenate((input_pairs, output_pairs), axis=1)\n",
    "\n",
    "# Path to the library (folder) containing spectrogram images\n",
    "library_path = 'Data/genres_original/rock_norm'  # Replace with the actual folder path\n",
    "\n",
    "# Assuming 'patch_size' is the desired size of each input-output pair patch\n",
    "patch_size = 64  # Replace with your desired patch size\n",
    "\n",
    "# Define batch size to process spectrograms in smaller batches\n",
    "batch_size = 10\n",
    "\n",
    "input_pairs_list = []\n",
    "\n",
    "# Iterate over the spectrogram images in the library and create input-output pairs in batches\n",
    "for filename in os.listdir(library_path):\n",
    "    if filename.endswith('.png'):  # Assuming the images are in PNG format\n",
    "        spectrogram_image_path = os.path.join(library_path, filename)\n",
    "        input_pairs = create_input_output_pairs_from_image(spectrogram_image_path, patch_size)\n",
    "        input_pairs_list.append(input_pairs)\n",
    "\n",
    "        # Process input pairs in batches\n",
    "        if len(input_pairs_list) >= batch_size:\n",
    "            input_pairs_batch = np.concatenate(input_pairs_list, axis=0)\n",
    "            # Use the input_pairs_batch for training or storage, and then clear the list\n",
    "            input_pairs_list.clear()\n",
    "\n",
    "# Concatenate any remaining pairs after processing all spectrograms\n",
    "if input_pairs_list:\n",
    "    input_pairs_batch = np.concatenate(input_pairs_list, axis=0)"
   ]
  },
  {
   "cell_type": "code",
   "execution_count": 12,
   "id": "d9fbb948",
   "metadata": {},
   "outputs": [
    {
     "data": {
      "text/plain": [
       "(4730, 128, 1000, 4)"
      ]
     },
     "execution_count": 12,
     "metadata": {},
     "output_type": "execute_result"
    }
   ],
   "source": [
    "input_pairs_batch.shape\n"
   ]
  },
  {
   "cell_type": "markdown",
   "id": "5d340cc3",
   "metadata": {},
   "source": [
    "Creating normelaized input output pairs "
   ]
  },
  {
   "cell_type": "code",
   "execution_count": 18,
   "id": "28b70a54",
   "metadata": {},
   "outputs": [],
   "source": [
    "# Function to create input-output pairs from a single spectrogram image\n",
    "def create_input_output_pairs_from_image(spectrogram_image_path, patch_size):\n",
    "    # Load the spectrogram image\n",
    "    spectrogram_image = Image.open(spectrogram_image_path)\n",
    "    spectrogram = np.array(spectrogram_image)\n",
    "\n",
    "    # Get the number of time steps and frequency bins in the spectrogram\n",
    "    num_time_steps, num_freq_bins = spectrogram.shape[:2]\n",
    "\n",
    "    # Initialize lists to store input and output pairs\n",
    "    input_pairs = []\n",
    "    output_pairs = []\n",
    "\n",
    "    # Slide a window of size 'patch_size' across the spectrogram to create pairs\n",
    "    for i in range(0, num_time_steps - patch_size * 2 + 1):\n",
    "        input_patch = spectrogram[i:i+patch_size, :]\n",
    "        output_patch = spectrogram[i+patch_size:i+2*patch_size, :]\n",
    "        input_pairs.append(input_patch)\n",
    "        output_pairs.append(output_patch)\n",
    "\n",
    "    # Convert lists to numpy arrays\n",
    "    input_pairs = np.array(input_pairs)\n",
    "    output_pairs = np.array(output_pairs)\n",
    "\n",
    "    return np.concatenate((input_pairs, output_pairs), axis=1)\n",
    "\n",
    "# Path to the library (folder) containing spectrogram images\n",
    "library_path = 'Data/genres_original/rock_norm'  # Replace with the actual folder path\n",
    "\n",
    "# Assuming 'patch_size' is the desired size of each input-output pair patch\n",
    "patch_size = 64  # Replace with your desired patch size\n",
    "\n",
    "# Define batch size to process spectrograms in smaller batches\n",
    "batch_size = 10\n",
    "\n",
    "input_pairs_list = []\n",
    "\n",
    "# Iterate over the spectrogram images in the library and create input-output pairs in batches\n",
    "for filename in os.listdir(library_path):\n",
    "    if filename.endswith('.png'):  # Assuming the images are in PNG format\n",
    "        spectrogram_image_path = os.path.join(library_path, filename)\n",
    "        input_pairs = create_input_output_pairs_from_image(spectrogram_image_path, patch_size)\n",
    "        input_pairs_list.append(input_pairs)\n",
    "\n",
    "        # Process input pairs in batches\n",
    "        if len(input_pairs_list) >= batch_size:\n",
    "            input_pairs_batch = np.concatenate(input_pairs_list, axis=0)\n",
    "            # Save the batch of input-output pairs as NumPy arrays\n",
    "            np.save(f'input_pairs_batch_{len(input_pairs_list)}.npy', input_pairs_batch)\n",
    "            # Clear the list for the next batch\n",
    "            input_pairs_list.clear()\n",
    "\n",
    "# Save any remaining pairs after processing all spectrograms\n",
    "if input_pairs_list:\n",
    "    input_pairs_batch = np.concatenate(input_pairs_list, axis=0)\n",
    "    np.save(f'input_pairs_batch_{len(input_pairs_list)}.npy', input_pairs_batch)\n",
    "    input_pairs_list.clear()"
   ]
  },
  {
   "cell_type": "code",
   "execution_count": 19,
   "id": "98478315",
   "metadata": {},
   "outputs": [
    {
     "data": {
      "text/plain": [
       "(4730, 128, 1000, 4)"
      ]
     },
     "execution_count": 19,
     "metadata": {},
     "output_type": "execute_result"
    }
   ],
   "source": [
    "input_pairs_batch.shape\n"
   ]
  },
  {
   "cell_type": "code",
   "execution_count": null,
   "id": "0ec9fc29",
   "metadata": {},
   "outputs": [],
   "source": []
  }
 ],
 "metadata": {
  "kernelspec": {
   "display_name": "Python 3 (ipykernel)",
   "language": "python",
   "name": "python3"
  },
  "language_info": {
   "codemirror_mode": {
    "name": "ipython",
    "version": 3
   },
   "file_extension": ".py",
   "mimetype": "text/x-python",
   "name": "python",
   "nbconvert_exporter": "python",
   "pygments_lexer": "ipython3",
   "version": "3.9.13"
  }
 },
 "nbformat": 4,
 "nbformat_minor": 5
}
